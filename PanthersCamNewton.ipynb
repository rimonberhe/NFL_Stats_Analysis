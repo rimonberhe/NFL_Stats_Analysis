{
 "cells": [
  {
   "cell_type": "markdown",
   "metadata": {},
   "source": [
    "For the purposes of this project I am going to explore my favorite NFL team the Carolina Panthers, and analyze the effect Cam Newton, the Panther's star Quaterback, had on the team in the 2015 season in which the Panthers went to the Superbowl."
   ]
  },
  {
   "cell_type": "code",
   "execution_count": 4,
   "metadata": {},
   "outputs": [],
   "source": [
    "import pandas as pd\n",
    "import numpy as np\n",
    "import datetime as dt\n",
    "import matplotlib.pyplot as plt\n",
    "from matplotlib import cm\n",
    "\n",
    "plt.style.use('ggplot')\n",
    "%matplotlib inline \n",
    "\n",
    "from __future__ import division\n"
   ]
  },
  {
   "cell_type": "code",
   "execution_count": 5,
   "metadata": {},
   "outputs": [],
   "source": [
    "nfl = pd.read_csv('https://raw.githubusercontent.com/ryurko/nflscrapR-data/master/data/season_play_by_play/pbp_2015.csv', low_memory=False)"
   ]
  },
  {
   "cell_type": "markdown",
   "metadata": {},
   "source": [
    "Now I can take a look at the size of the data, mainly the dimensons."
   ]
  },
  {
   "cell_type": "code",
   "execution_count": 63,
   "metadata": {},
   "outputs": [
    {
     "data": {
      "text/plain": [
       "(46129, 104)"
      ]
     },
     "execution_count": 63,
     "metadata": {},
     "output_type": "execute_result"
    }
   ],
   "source": [
    "nfl.shape"
   ]
  },
  {
   "cell_type": "markdown",
   "metadata": {},
   "source": [
    "Since I want to view Cam Newton's effect on the regular season stats for the team I will first create a boolean column that specifically states whether Cam Newtown was an active participant of the play."
   ]
  },
  {
   "cell_type": "code",
   "execution_count": 64,
   "metadata": {},
   "outputs": [],
   "source": [
    "nfl['Cam'] = np.where((nfl[\"Passer\"] == \"C.Newton\") | (nfl[\"Rusher\"] == \"C.Newton\"), 'yes', 'no')"
   ]
  },
  {
   "cell_type": "markdown",
   "metadata": {},
   "source": [
    "Next, filter everything in the nfl dataframe to only show panthers specific data."
   ]
  },
  {
   "cell_type": "code",
   "execution_count": 65,
   "metadata": {},
   "outputs": [],
   "source": [
    "panthers = nfl[ (nfl[\"HomeTeam\"] == 'CAR') | (nfl[\"AwayTeam\"] == 'CAR') ]"
   ]
  },
  {
   "cell_type": "markdown",
   "metadata": {},
   "source": [
    "Now, I can look into the touchdowns scored. To do that, I will filter everything to only leave the data in which the Panthers are the home or away team, a scoring play occured, a touchdown occured, the Panthers were on offense, and there was no turnover which resulted in a touchdown."
   ]
  },
  {
   "cell_type": "markdown",
   "metadata": {},
   "source": [
    "We get a total of 57 touchdowns for the regular season"
   ]
  },
  {
   "cell_type": "code",
   "execution_count": 66,
   "metadata": {},
   "outputs": [
    {
     "data": {
      "text/plain": [
       "57"
      ]
     },
     "execution_count": 66,
     "metadata": {},
     "output_type": "execute_result"
    }
   ],
   "source": [
    "panthers_td = nfl[((nfl[\"HomeTeam\"] == 'CAR') | (nfl[\"AwayTeam\"] == 'CAR')) & (nfl[\"sp\"] == 1) & (nfl[\"Touchdown\"] == 1) & (nfl[\"DefensiveTeam\"] != 'CAR') & pd.isnull(nfl[\"Interceptor\"])]\n",
    "len(panthers_td)"
   ]
  },
  {
   "cell_type": "markdown",
   "metadata": {},
   "source": [
    "Using the column we previously created, we can see that out of the 57 touchdowns the Panthers scored in the regular season, Cam Newtown scored a total of 44 touchdowns while 13 touchdowns were not scored by him."
   ]
  },
  {
   "cell_type": "code",
   "execution_count": 69,
   "metadata": {},
   "outputs": [
    {
     "data": {
      "text/plain": [
       "Cam\n",
       "no     13\n",
       "yes    44\n",
       "Name: Touchdown, dtype: int64"
      ]
     },
     "execution_count": 69,
     "metadata": {},
     "output_type": "execute_result"
    }
   ],
   "source": [
    "panthers_td.groupby('Cam').Touchdown.sum()"
   ]
  },
  {
   "cell_type": "markdown",
   "metadata": {},
   "source": [
    "Now, I am going to visualize this by making a simple bar graph showing total "
   ]
  },
  {
   "cell_type": "code",
   "execution_count": null,
   "metadata": {},
   "outputs": [],
   "source": []
  },
  {
   "cell_type": "code",
   "execution_count": null,
   "metadata": {},
   "outputs": [],
   "source": []
  },
  {
   "cell_type": "markdown",
   "metadata": {},
   "source": [
    "We get 57 touchdowns for the season."
   ]
  }
 ],
 "metadata": {
  "kernelspec": {
   "display_name": "Python 3",
   "language": "python",
   "name": "python3"
  },
  "language_info": {
   "codemirror_mode": {
    "name": "ipython",
    "version": 3
   },
   "file_extension": ".py",
   "mimetype": "text/x-python",
   "name": "python",
   "nbconvert_exporter": "python",
   "pygments_lexer": "ipython3",
   "version": "3.6.5"
  }
 },
 "nbformat": 4,
 "nbformat_minor": 2
}
